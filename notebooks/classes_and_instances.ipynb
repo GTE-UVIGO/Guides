{
 "cells": [
  {
   "cell_type": "markdown",
   "metadata": {},
   "source": [
    "# Classes and instances\n",
    "Classes are\n",
    "[Object-Oriented-Programming](https://en.wikipedia.org/wiki/Object-oriented_programming)\n",
    "tools used for encapsulating bits of data, as well as code describing procedures to\n",
    "manipulate that data. If a **class** can be seen as a\n",
    "[blueprint](https://stackoverflow.com/a/1486212) defining the specifics of a\n",
    "particular kind of object, any **object** created from a specific class is an\n",
    "**instance** of that class.\n",
    "\n",
    "In Python, data variables contained within a class are known as **attributes**, while\n",
    "the procedures used for manipulating them are known as **methods**. Let's illustrate\n",
    "those concepts by defining an example class:"
   ]
  },
  {
   "cell_type": "code",
   "execution_count": 1,
   "metadata": {},
   "outputs": [],
   "source": [
    "class Tool:\n",
    "    \"\"\"Very important class.\"\"\"\n",
    "    _c = 1\n",
    "    d = 1\n",
    "\n",
    "    def __init__(self, value_a: int, value_b: 2):\n",
    "        self._a = value_a\n",
    "        self.b = value_b\n",
    "\n",
    "    def multiply_b_by(self, by_value: int):\n",
    "        \"\"\"Multiply the \"b\" instance attribute by an integer and store it.\"\"\"\n",
    "        self.b *= by_value\n",
    "\n",
    "    @classmethod\n",
    "    def multiply_c_by(cls, by_value: int):\n",
    "        \"\"\"Multiply the \"_c\" class attribute by an integer and store it.\"\"\"\n",
    "        cls._c *= by_value\n",
    "\n",
    "    @staticmethod\n",
    "    def _multiply(value_1: int, value_2: int) -> int:\n",
    "        \"\"\"Multiply two integers and return the resulting value.\"\"\"\n",
    "        return value_1 * value_2\n",
    "\n",
    "    @property\n",
    "    def a(self) -> int:\n",
    "        \"\"\"Provide the value of the 'a' attribute.\"\"\"\n",
    "        return self._a\n",
    "\n",
    "    @a.setter\n",
    "    def a(self, new_value: int):\n",
    "        \"\"\"Change the value of the 'a' attribute.\"\"\"\n",
    "        self._a = new_value\n",
    "\n",
    "    @property\n",
    "    def c(self) -> int:\n",
    "        \"\"\"Provide the value of the 'c' attribute.\"\"\"\n",
    "        return self._c\n",
    "\n",
    "\n",
    "tool_1 = Tool(value_a=1, value_b=2)\n",
    "tool_2 = Tool(value_a=10, value_b=20)"
   ]
  },
  {
   "cell_type": "markdown",
   "metadata": {},
   "source": [
    "Here `Tool` is a _class_, while both `tool_1` and `tool_2` are _instances_ of the\n",
    "`Tool` class."
   ]
  },
  {
   "cell_type": "markdown",
   "metadata": {},
   "source": [
    "## Attributes: instance vs class\n",
    "Attributes are variables defined inside classes, and used to store and _preserve_ the\n",
    "internal state of those classes. There are two kinds of attributes, with differences\n",
    "in their scopes: **instance attributes** for those parts of the internal state\n",
    "belonging to an individual _instance_, and **class attributes** for those other bits\n",
    "of stored information that are shared by all instances of a single _class_.\n",
    "\n",
    "The `Tool` class stores information in four attributes: `_a`, `b`, `_c` and `d`. Of\n",
    "them, the first two are _instance_ attributes: each instance of the `Tool` class\n",
    "will store an independent copy of those attributes, and changes to them in one\n",
    "instance will not affect other instances:"
   ]
  },
  {
   "cell_type": "code",
   "execution_count": 2,
   "metadata": {
    "collapsed": true
   },
   "outputs": [],
   "source": [
    "tool_1.multiply_b_by(by_value=4)\n",
    "assert tool_1.b == 8  # Changed as expected.\n",
    "assert tool_2.b == 20  # It didn't change, it's independent!"
   ]
  },
  {
   "cell_type": "markdown",
   "metadata": {},
   "source": [
    "The `_c` and `d` attributes are different: they are defined not inside the `__init__`\n",
    "method, but directly in the scope of the `Tools` class. They are _class_ attributes,\n",
    "shared by all present (and future) instances of the class. Changes to a class\n",
    "attribute in any instance will affect the state of all instances of the same class:"
   ]
  },
  {
   "cell_type": "code",
   "execution_count": 3,
   "metadata": {},
   "outputs": [],
   "source": [
    "assert tool_1._c == 1\n",
    "assert tool_2._c == 1\n",
    "\n",
    "tool_1.multiply_c_by(by_value=4)\n",
    "assert tool_1._c == 4  # Changed as expected.\n",
    "assert tool_2._c == 4  # It's also modified!\n",
    "\n",
    "tool_3 = Tool(value_a=1, value_b=2)\n",
    "assert tool_3._c == 4  # It's also modified!"
   ]
  },
  {
   "cell_type": "markdown",
   "metadata": {},
   "source": [
    "Note that, if we try to modify the `d` class attribute in one instance directly, the\n",
    "behaviour will not be as expected:"
   ]
  },
  {
   "cell_type": "code",
   "execution_count": 4,
   "metadata": {},
   "outputs": [],
   "source": [
    "tool_1.d = 5\n",
    "assert tool_1.d == 5  # Changed as expected.\n",
    "assert tool_2.d == 1  # Didn't change!"
   ]
  },
  {
   "cell_type": "markdown",
   "metadata": {},
   "source": [
    "This is because we didn't really change the value of the **class** attribute! What we\n",
    "just did was defining a new **instance** attribute `d` with the same name as the\n",
    "original class attribute, thus overwriting it (for that instance only).\n",
    "\n",
    "If we want to change a class attribute outside the scope of a class method, we have to\n",
    "do it directly over the class itself:"
   ]
  },
  {
   "cell_type": "code",
   "execution_count": 5,
   "metadata": {},
   "outputs": [],
   "source": [
    "Tool.d = 6\n",
    "assert tool_2.d == 6  # Changed as expected.\n",
    "assert tool_3.d == 6  # Changed as expected.\n",
    "assert tool_1.d == 5  # Didn't change, because 'd' is overwritten for 'tool_1'!"
   ]
  },
  {
   "cell_type": "markdown",
   "metadata": {},
   "source": [
    "## Methods: instance vs class vs static\n",
    "Methods can be seen as akin to functions, but defined within the scope of a class.\n",
    "They are _generally_ used to manipulate the attributes of their corresponding\n",
    "instances and/or classes.\n",
    "\n",
    "The `Tool` class defines three methods: `multiply_b_by`, `multiply_c_by` and\n",
    "`multiply`. The first two are used to change the values of the `b` and `_c` attributes,\n",
    "respectively. Note that one method may use and/or modify multiple attributes, and one\n",
    "attribute may be used and/or modified by multiple different methods.\n",
    "\n",
    "The `multiply_b_by` method is an _instance_ method, because it uses/modifies internal\n",
    "state that is specific to an individual instance. It's signature includes `self` as\n",
    "a first argument because it uses it to access the internal state (the attributes) of the\n",
    "instance that is invoking it.\n",
    "\n",
    "When invoking an instance method, the user doesn't provide this `self` argument, and\n",
    "Python automatically fills it with the invoking instance object. An instance method\n",
    "can't be invoked directly from a class:"
   ]
  },
  {
   "cell_type": "code",
   "execution_count": 6,
   "metadata": {},
   "outputs": [],
   "source": [
    "tool_1.multiply_b_by(by_value=3)  # It works, 'tool_1' will be used as 'self'.\n",
    "# Tool.multiply_b_by(by_value=3)  # This wouldn't work!"
   ]
  },
  {
   "cell_type": "markdown",
   "metadata": {},
   "source": [
    "The `multiply_c_by` is a bit different: it is decorated with a `@classmethod`\n",
    "[decorator](https://pythonbasics.org/decorators/), and the `self` first argument is now\n",
    "replaced with a `cls` one. As the name of the decorator suggests, this is a **class\n",
    "method**, and is used to operate with the part of the internal state defined for the\n",
    "whole _class_: its _class attributes_.\n",
    "\n",
    "As with instance methods, when invoking a class method, the `cls` argument is omitted,\n",
    "and Python fills it with the invoking class. A class method may be invoked directly\n",
    "from a class, but can also be invoked by any of its instances:"
   ]
  },
  {
   "cell_type": "code",
   "execution_count": 7,
   "metadata": {},
   "outputs": [],
   "source": [
    "Tool.multiply_c_by(by_value=3)  # It works, 'Tool' will be used as 'cls'.\n",
    "tool_1.multiply_c_by(by_value=3)  # It works too, the class of 'tool_1' will be used."
   ]
  },
  {
   "cell_type": "markdown",
   "source": [
    "One common use for class methods is when a class provides additional ways of creating\n",
    "an instance (i.e. creating instances from a different set of input arguments). The\n",
    "[`datetime.datetime.strptime`](https://docs.python.org/3/library/datetime.html#datetime.datetime.strptime)\n",
    "and the\n",
    "[`pandas.DataFrame.from_dict`](https://pandas.pydata.org/pandas-docs/stable/reference/api/pandas.DataFrame.from_dict.html#pandas.DataFrame.from_dict) methods are good examples of this kind of usage."
   ],
   "metadata": {
    "collapsed": false
   }
  },
  {
   "cell_type": "markdown",
   "metadata": {},
   "source": [
    "Finally, the `_multiply` method is different to both former methods: it is decorated\n",
    "with a `@staticmethod` decorator, and its signature includes neither `self` not `cls`\n",
    "or any other _implicit_ first argument. This is a **static method**, which makes a\n",
    "specific task without having access to a single bit of the invoking instance's or\n",
    "class's internal state. It can be invoked directly from either a class or one of its\n",
    "instances:"
   ]
  },
  {
   "cell_type": "code",
   "execution_count": 8,
   "metadata": {},
   "outputs": [],
   "source": [
    "assert Tool._multiply(value_1=2, value_2=3) == 6  # It works.\n",
    "assert tool_1._multiply(value_1=2, value_2=3) == 6  # It works too."
   ]
  },
  {
   "cell_type": "markdown",
   "metadata": {},
   "source": [
    "## Protected attributes and methods\n",
    "Note how the `_a` and `_d` attributes, as well as the `_multiply` method, all start\n",
    "with a single `_` underscore character. They are 'protected' attributes/methods, in the\n",
    "sense that the developer of the class didn't intend for other users (or other objects)\n",
    "to directly use those attributes/methods. Most\n",
    "[IntelliSense](https://code.visualstudio.com/docs/editor/intellisense) tools would\n",
    "mark the previous `assert tool_X._c == Y` lines with a weak warning (or similar). The\n",
    "same goes for any `tool_X._multiply(value_1=Y, value_2=Z)` line.\n",
    "\n",
    "However, nothing really _prevents_ other objects/users from using those protected\n",
    "attributes or methods. Python doesn't have a real notion of _private_ or _protected_\n",
    "attributes or methods, and instead uses a policy of\n",
    "[consenting adults](https://mail.python.org/pipermail/tutor/2003-October/025932.html).\n",
    "Neither single `_` nor double `__` underscore characters at the beginning of a\n",
    "name make that name [private](https://stackoverflow.com/a/11483397)."
   ]
  },
  {
   "cell_type": "markdown",
   "metadata": {},
   "source": [
    "## Properties: getters and setters\n",
    "There are two `@property`-decorated 'methods' at the end of the definition of the\n",
    "`Tool` class, each with a similar name to one attribute: `_a` and `_c`. These are\n",
    "**properties**, which are commonly used to provide _reading_ access to _protected_\n",
    "attributes. They may also be referred to as **getters**."
   ]
  },
  {
   "cell_type": "code",
   "execution_count": 9,
   "metadata": {},
   "outputs": [],
   "source": [
    "assert tool_1.a == 1\n",
    "tool_4 = Tool(value_a=27, value_b=2)\n",
    "assert tool_4.a == 27"
   ]
  },
  {
   "cell_type": "markdown",
   "metadata": {},
   "source": [
    "Note that a property is _invoked_ without _calling_ it (without using '(' or ')'\n",
    "characters). Note also that properties aren't limited to directly provide read access\n",
    "to protected attributes. They may be used for returning modified versions of a single\n",
    "attribute (e.g. an integer attribute converted to a string), combinations of multiple\n",
    "attributes, or even hardcoded values not stored inside any attribute.\n",
    "\n",
    "There is also another 'method' decorated with the `@a.setter` decorator, sharing a\n",
    "common name with the `a` property. It is a **setter**, used to provide _writing_\n",
    "access to _protected_ attributes.\n",
    "\n",
    "Defining a property without a matching setter will cause the code to raise an\n",
    "AttributeError exception when trying to change the value of the corresponding value:"
   ]
  },
  {
   "cell_type": "code",
   "execution_count": 10,
   "metadata": {},
   "outputs": [],
   "source": [
    "tool_1.a = 987  # It works because 'a' is both a property and a setter.\n",
    "assert tool_1.a == 987\n",
    "# tool_1.c = 789  # This would raise an AttributeError!"
   ]
  }
 ],
 "metadata": {
  "kernelspec": {
   "display_name": "Python 3 (ipykernel)",
   "language": "python",
   "name": "python3"
  },
  "language_info": {
   "codemirror_mode": {
    "name": "ipython",
    "version": 3
   },
   "file_extension": ".py",
   "mimetype": "text/x-python",
   "name": "python",
   "nbconvert_exporter": "python",
   "pygments_lexer": "ipython3",
   "version": "3.11.0"
  }
 },
 "nbformat": 4,
 "nbformat_minor": 1
}
